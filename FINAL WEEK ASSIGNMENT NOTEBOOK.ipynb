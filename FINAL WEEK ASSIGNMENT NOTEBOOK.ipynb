{
 "cells": [
  {
   "cell_type": "markdown",
   "metadata": {},
   "source": [
    "<center>\n",
    "    <img src=\"https://s3-api.us-geo.objectstorage.softlayer.net/cf-courses-data/CognitiveClass/Logos/organization_logo/organization_logo.png\" width=\"300\" alt=\"cognitiveclass.ai logo\"  />\n",
    "</center>"
   ]
  },
  {
   "cell_type": "markdown",
   "metadata": {},
   "source": [
    "#### Add your code below following the instructions given in the course"
   ]
  },
  {
   "cell_type": "markdown",
   "metadata": {
    "collapsed": true
   },
   "source": [
    "<h1>My Jupyter Notebook on IBM Watson Studio</h1>"
   ]
  },
  {
   "cell_type": "markdown",
   "metadata": {},
   "source": [
    "<b>Yadlapalli Satish Chandra Chowdary</b><br>\n",
    "I'm a Student Right Now"
   ]
  },
  {
   "cell_type": "markdown",
   "metadata": {},
   "source": [
    "<i>I'm Interested In Data Science Because, I Love Predictions From The Existing Data.!!</i>"
   ]
  },
  {
   "cell_type": "markdown",
   "metadata": {},
   "source": [
    "<h3>The Below Code Displays \"Hello, Humans.!!\" Message</h3>"
   ]
  },
  {
   "cell_type": "code",
   "execution_count": 1,
   "metadata": {},
   "outputs": [
    {
     "name": "stdout",
     "output_type": "stream",
     "text": [
      "Hello, Humans.!!\n"
     ]
    }
   ],
   "source": [
    "print(\"Hello, Humans.!!\")"
   ]
  },
  {
   "cell_type": "markdown",
   "metadata": {},
   "source": [
    "<b>Horizontal Rule Below This Line -</b> <hr>\n",
    "<b>The Below List Is A Bulleted List -</b>\n",
    "<ul><li>List Item 1</li>\n",
    "    <li>List Item 2</li>\n",
    "    <li>List Item 3</li></ul>\n",
    "<b>The Below List Is A Numbered List -</b>\n",
    "<ol><li>List Item 1</li>\n",
    "    <li>List Item 2</li>\n",
    "    <li>List Item 3</li></ol>\n",
    "<b>The Below Item Represents A Table -</b>\n",
    "<table><tr><th>Column 1</th><th>Column 2</th></tr>\n",
    "    <tr><td>1</td><td>2</td></tr>\n",
    "    <tr><td>3</td><td>4</td></tr>\n",
    "    <tr><td>5</td><td>6</td></tr></table>"
   ]
  }
 ],
 "metadata": {
  "kernelspec": {
   "display_name": "Python 3 (ipykernel)",
   "language": "python",
   "name": "python3"
  },
  "language_info": {
   "codemirror_mode": {
    "name": "ipython",
    "version": 3
   },
   "file_extension": ".py",
   "mimetype": "text/x-python",
   "name": "python",
   "nbconvert_exporter": "python",
   "pygments_lexer": "ipython3",
   "version": "3.10.0"
  }
 },
 "nbformat": 4,
 "nbformat_minor": 1
}
